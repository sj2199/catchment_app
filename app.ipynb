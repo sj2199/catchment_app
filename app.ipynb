{
 "cells": [
  {
   "cell_type": "code",
   "execution_count": 1,
   "id": "c9329e2b",
   "metadata": {
    "scrolled": true
   },
   "outputs": [
    {
     "name": "stdout",
     "output_type": "stream",
     "text": [
      "Requirement already satisfied: streamlit in ./anaconda3/lib/python3.11/site-packages (1.39.0)\n",
      "Collecting ngrok\n",
      "  Obtaining dependency information for ngrok from https://files.pythonhosted.org/packages/e3/37/f057c62a81310614381d84ee3cb55badf1f61ba47b35ca15994f1d7e7120/ngrok-1.4.0-cp37-abi3-macosx_11_0_arm64.whl.metadata\n",
      "  Downloading ngrok-1.4.0-cp37-abi3-macosx_11_0_arm64.whl.metadata (19 kB)\n",
      "Requirement already satisfied: altair<6,>=4.0 in ./anaconda3/lib/python3.11/site-packages (from streamlit) (5.4.1)\n",
      "Requirement already satisfied: blinker<2,>=1.0.0 in ./anaconda3/lib/python3.11/site-packages (from streamlit) (1.8.2)\n",
      "Requirement already satisfied: cachetools<6,>=4.0 in ./anaconda3/lib/python3.11/site-packages (from streamlit) (5.5.0)\n",
      "Requirement already satisfied: click<9,>=7.0 in ./anaconda3/lib/python3.11/site-packages (from streamlit) (8.0.4)\n",
      "Requirement already satisfied: numpy<3,>=1.20 in ./anaconda3/lib/python3.11/site-packages (from streamlit) (1.24.3)\n",
      "Requirement already satisfied: packaging<25,>=20 in ./anaconda3/lib/python3.11/site-packages (from streamlit) (23.1)\n",
      "Requirement already satisfied: pandas<3,>=1.4.0 in ./anaconda3/lib/python3.11/site-packages (from streamlit) (2.0.3)\n",
      "Requirement already satisfied: pillow<11,>=7.1.0 in ./anaconda3/lib/python3.11/site-packages (from streamlit) (9.4.0)\n",
      "Requirement already satisfied: protobuf<6,>=3.20 in ./anaconda3/lib/python3.11/site-packages (from streamlit) (5.28.3)\n",
      "Requirement already satisfied: pyarrow>=7.0 in ./anaconda3/lib/python3.11/site-packages (from streamlit) (11.0.0)\n",
      "Requirement already satisfied: requests<3,>=2.27 in ./anaconda3/lib/python3.11/site-packages (from streamlit) (2.31.0)\n",
      "Requirement already satisfied: rich<14,>=10.14.0 in ./anaconda3/lib/python3.11/site-packages (from streamlit) (13.9.4)\n",
      "Requirement already satisfied: tenacity<10,>=8.1.0 in ./anaconda3/lib/python3.11/site-packages (from streamlit) (8.2.2)\n",
      "Requirement already satisfied: toml<2,>=0.10.1 in ./anaconda3/lib/python3.11/site-packages (from streamlit) (0.10.2)\n",
      "Requirement already satisfied: typing-extensions<5,>=4.3.0 in ./anaconda3/lib/python3.11/site-packages (from streamlit) (4.12.2)\n",
      "Requirement already satisfied: gitpython!=3.1.19,<4,>=3.0.7 in ./anaconda3/lib/python3.11/site-packages (from streamlit) (3.1.43)\n",
      "Requirement already satisfied: pydeck<1,>=0.8.0b4 in ./anaconda3/lib/python3.11/site-packages (from streamlit) (0.9.1)\n",
      "Requirement already satisfied: tornado<7,>=6.0.3 in ./anaconda3/lib/python3.11/site-packages (from streamlit) (6.3.2)\n",
      "Requirement already satisfied: jinja2 in ./anaconda3/lib/python3.11/site-packages (from altair<6,>=4.0->streamlit) (3.1.2)\n",
      "Requirement already satisfied: jsonschema>=3.0 in ./anaconda3/lib/python3.11/site-packages (from altair<6,>=4.0->streamlit) (4.17.3)\n",
      "Requirement already satisfied: narwhals>=1.5.2 in ./anaconda3/lib/python3.11/site-packages (from altair<6,>=4.0->streamlit) (1.13.2)\n",
      "Requirement already satisfied: gitdb<5,>=4.0.1 in ./anaconda3/lib/python3.11/site-packages (from gitpython!=3.1.19,<4,>=3.0.7->streamlit) (4.0.11)\n",
      "Requirement already satisfied: python-dateutil>=2.8.2 in ./anaconda3/lib/python3.11/site-packages (from pandas<3,>=1.4.0->streamlit) (2.8.2)\n",
      "Requirement already satisfied: pytz>=2020.1 in ./anaconda3/lib/python3.11/site-packages (from pandas<3,>=1.4.0->streamlit) (2023.3.post1)\n",
      "Requirement already satisfied: tzdata>=2022.1 in ./anaconda3/lib/python3.11/site-packages (from pandas<3,>=1.4.0->streamlit) (2023.3)\n",
      "Requirement already satisfied: charset-normalizer<4,>=2 in ./anaconda3/lib/python3.11/site-packages (from requests<3,>=2.27->streamlit) (2.0.4)\n",
      "Requirement already satisfied: idna<4,>=2.5 in ./anaconda3/lib/python3.11/site-packages (from requests<3,>=2.27->streamlit) (3.4)\n",
      "Requirement already satisfied: urllib3<3,>=1.21.1 in ./anaconda3/lib/python3.11/site-packages (from requests<3,>=2.27->streamlit) (1.26.16)\n",
      "Requirement already satisfied: certifi>=2017.4.17 in ./anaconda3/lib/python3.11/site-packages (from requests<3,>=2.27->streamlit) (2024.8.30)\n",
      "Requirement already satisfied: markdown-it-py>=2.2.0 in ./anaconda3/lib/python3.11/site-packages (from rich<14,>=10.14.0->streamlit) (2.2.0)\n",
      "Requirement already satisfied: pygments<3.0.0,>=2.13.0 in ./anaconda3/lib/python3.11/site-packages (from rich<14,>=10.14.0->streamlit) (2.15.1)\n",
      "Requirement already satisfied: smmap<6,>=3.0.1 in ./anaconda3/lib/python3.11/site-packages (from gitdb<5,>=4.0.1->gitpython!=3.1.19,<4,>=3.0.7->streamlit) (5.0.1)\n",
      "Requirement already satisfied: MarkupSafe>=2.0 in ./anaconda3/lib/python3.11/site-packages (from jinja2->altair<6,>=4.0->streamlit) (2.1.1)\n",
      "Requirement already satisfied: attrs>=17.4.0 in ./anaconda3/lib/python3.11/site-packages (from jsonschema>=3.0->altair<6,>=4.0->streamlit) (24.2.0)\n",
      "Requirement already satisfied: pyrsistent!=0.17.0,!=0.17.1,!=0.17.2,>=0.14.0 in ./anaconda3/lib/python3.11/site-packages (from jsonschema>=3.0->altair<6,>=4.0->streamlit) (0.18.0)\n",
      "Requirement already satisfied: mdurl~=0.1 in ./anaconda3/lib/python3.11/site-packages (from markdown-it-py>=2.2.0->rich<14,>=10.14.0->streamlit) (0.1.0)\n",
      "Requirement already satisfied: six>=1.5 in ./anaconda3/lib/python3.11/site-packages (from python-dateutil>=2.8.2->pandas<3,>=1.4.0->streamlit) (1.16.0)\n",
      "Downloading ngrok-1.4.0-cp37-abi3-macosx_11_0_arm64.whl (2.6 MB)\n",
      "\u001b[2K   \u001b[90m━━━━━━━━━━━━━━━━━━━━━━━━━━━━━━━━━━━━━━━━\u001b[0m \u001b[32m2.6/2.6 MB\u001b[0m \u001b[31m14.7 MB/s\u001b[0m eta \u001b[36m0:00:00\u001b[0ma \u001b[36m0:00:01\u001b[0m\n",
      "\u001b[?25hInstalling collected packages: ngrok\n",
      "Successfully installed ngrok-1.4.0\n"
     ]
    }
   ],
   "source": [
    "!pip install streamlit ngrok"
   ]
  },
  {
   "cell_type": "code",
   "execution_count": 4,
   "id": "60b03d94",
   "metadata": {
    "scrolled": false
   },
   "outputs": [
    {
     "name": "stdout",
     "output_type": "stream",
     "text": [
      "Collecting pyngrok\n",
      "  Obtaining dependency information for pyngrok from https://files.pythonhosted.org/packages/51/e7/0fb831625ae026d7fc93dfa54b6e2f2d3eecd3b3405c885f5d3a44cd9f0c/pyngrok-7.2.1-py3-none-any.whl.metadata\n",
      "  Downloading pyngrok-7.2.1-py3-none-any.whl.metadata (8.3 kB)\n",
      "Requirement already satisfied: PyYAML>=5.1 in ./anaconda3/lib/python3.11/site-packages (from pyngrok) (6.0)\n",
      "Downloading pyngrok-7.2.1-py3-none-any.whl (22 kB)\n",
      "Installing collected packages: pyngrok\n",
      "Successfully installed pyngrok-7.2.1\n"
     ]
    }
   ],
   "source": [
    "!pip install pyngrok"
   ]
  },
  {
   "cell_type": "code",
   "execution_count": 5,
   "id": "2df4ee66",
   "metadata": {},
   "outputs": [
    {
     "name": "stdout",
     "output_type": "stream",
     "text": [
      "Overwriting app.py\n"
     ]
    }
   ],
   "source": [
    "%%writefile app.py\n",
    "import streamlit as st\n",
    "import numpy as np\n",
    "import geojson\n",
    "import pandas as pd\n",
    "\n",
    "# Function to create a circle polygon (approximated) in GeoJSON format\n",
    "def create_circle_geojson(center_lat, center_lon, radius, num_points=64):\n",
    "    earth_radius = 6378137\n",
    "    angular_distance = radius / earth_radius\n",
    "    points = []\n",
    "    for angle in np.linspace(0, 2 * np.pi, num_points):\n",
    "        point_lat = np.arcsin(\n",
    "            np.sin(np.radians(center_lat)) * np.cos(angular_distance) +\n",
    "            np.cos(np.radians(center_lat)) * np.sin(angular_distance) * np.cos(angle)\n",
    "        )\n",
    "        point_lon = np.radians(center_lon) + np.arctan2(\n",
    "            np.sin(angle) * np.sin(angular_distance) * np.cos(np.radians(center_lat)),\n",
    "            np.cos(angular_distance) - np.sin(np.radians(center_lat)) * np.sin(point_lat)\n",
    "        )\n",
    "        points.append((np.degrees(point_lon), np.degrees(point_lat)))\n",
    "    points.append(points[0])\n",
    "    polygon = geojson.Polygon([points])\n",
    "    return polygon\n",
    "\n",
    "# Function to generate combined GeoJSON from a DataFrame\n",
    "def generate_combined_geojson(df, radius):\n",
    "    features = []\n",
    "    for _, row in df.iterrows():\n",
    "        try:\n",
    "            # Check for missing or NaN values in latitude/longitude\n",
    "            if pd.isna(row['Latitude']) or pd.isna(row['Longitude']):\n",
    "                st.warning(f\"Skipping row with missing coordinates: {row}\")\n",
    "                continue\n",
    "\n",
    "            # Convert latitude and longitude to float and validate their ranges\n",
    "            center_lat = float(row['Latitude'])\n",
    "            center_lon = float(row['Longitude'])\n",
    "            \n",
    "            if not (-90 <= center_lat <= 90 and -180 <= center_lon <= 180):\n",
    "                st.warning(f\"Skipping row with out-of-range coordinates: {row}\")\n",
    "                continue\n",
    "\n",
    "            # Generate circle GeoJSON\n",
    "            circle_geojson = create_circle_geojson(center_lat, center_lon, radius)\n",
    "            features.append(geojson.Feature(geometry=circle_geojson, properties={\"Latitude\": center_lat, \"Longitude\": center_lon}))\n",
    "        except ValueError:\n",
    "            st.warning(f\"Skipping row with invalid data: {row}\")\n",
    "    return geojson.FeatureCollection(features)\n",
    "\n",
    "# Streamlit Interface\n",
    "st.title(\"CSV to GeoJSON Circle Generator\")\n",
    "\n",
    "# Upload CSV\n",
    "uploaded_file = st.file_uploader(\"Upload a CSV file with 'Latitude' and 'Longitude' columns\", type=\"csv\")\n",
    "\n",
    "# Input for radius in meters\n",
    "radius = st.number_input(\"Enter radius for circles (in meters)\", min_value=1, value=25000)\n",
    "\n",
    "if uploaded_file:\n",
    "    df = pd.read_csv(uploaded_file)\n",
    "    if 'Latitude' in df.columns and 'Longitude' in df.columns:\n",
    "        geojson_data = generate_combined_geojson(df, radius)\n",
    "        geojson_str = geojson.dumps(geojson_data, indent=2)\n",
    "\n",
    "        st.header(\"Generated GeoJSON\")\n",
    "        st.text_area(\"GeoJSON Output\", geojson_str, height=300)\n",
    "        \n",
    "        st.download_button(\n",
    "            label=\"Download GeoJSON\",\n",
    "            data=geojson_str,\n",
    "            file_name=\"circles.geojson\",\n",
    "            mime=\"application/json\"\n",
    "        )\n",
    "    else:\n",
    "        st.error(\"CSV must contain 'Latitude' and 'Longitude' columns.\")\n"
   ]
  },
  {
   "cell_type": "code",
   "execution_count": 6,
   "id": "284a20c8",
   "metadata": {},
   "outputs": [
    {
     "name": "stdout",
     "output_type": "stream",
     "text": [
      "Authtoken saved to configuration file: /Users/supriya/Library/Application Support/ngrok/ngrok.yml\r\n"
     ]
    }
   ],
   "source": [
    "!ngrok config add-authtoken 2oTQlOql8oyegJVQsexeFjtaO9c_3rUigWYQFZ1DMhwEmAUoq"
   ]
  },
  {
   "cell_type": "code",
   "execution_count": null,
   "id": "0d3b8060",
   "metadata": {},
   "outputs": [
    {
     "name": "stdout",
     "output_type": "stream",
     "text": [
      "\u001b[0m\r\n",
      "\u001b[34m\u001b[1m  You can now view your Streamlit app in your browser.\u001b[0m\r\n",
      "\u001b[0m\r\n",
      "\u001b[34m  Local URL: \u001b[0m\u001b[1mhttp://localhost:8503\u001b[0m\r\n",
      "\u001b[34m  Network URL: \u001b[0m\u001b[1mhttp://192.168.2.104:8503\u001b[0m\r\n",
      "\u001b[0m\r\n"
     ]
    }
   ],
   "source": [
    "!streamlit run app.py --server.port 8503"
   ]
  },
  {
   "cell_type": "code",
   "execution_count": null,
   "id": "7c795d32",
   "metadata": {},
   "outputs": [],
   "source": [
    "from pyngrok import ngrok\n",
    "public_url = ngrok.connect(8503)\n",
    "print(\"Streamlit app is running at:\", public_url)"
   ]
  },
  {
   "cell_type": "code",
   "execution_count": null,
   "id": "1bb8daa9",
   "metadata": {},
   "outputs": [],
   "source": []
  }
 ],
 "metadata": {
  "kernelspec": {
   "display_name": "Python 3 (ipykernel)",
   "language": "python",
   "name": "python3"
  },
  "language_info": {
   "codemirror_mode": {
    "name": "ipython",
    "version": 3
   },
   "file_extension": ".py",
   "mimetype": "text/x-python",
   "name": "python",
   "nbconvert_exporter": "python",
   "pygments_lexer": "ipython3",
   "version": "3.11.5"
  }
 },
 "nbformat": 4,
 "nbformat_minor": 5
}
